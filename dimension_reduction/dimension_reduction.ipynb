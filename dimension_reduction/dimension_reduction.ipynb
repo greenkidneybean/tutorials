{
 "cells": [
  {
   "cell_type": "markdown",
   "metadata": {},
   "source": [
    "# Dimension Reduction Using SKLearn\n",
    "Michael Chambers - 190513\n",
    "\n",
    "Quick run-through on generating PCA plots from a Mash distance matrix of some RefSeq K. pneumoniae genomes."
   ]
  },
  {
   "cell_type": "code",
   "execution_count": 1,
   "metadata": {},
   "outputs": [],
   "source": [
    "# import packages for the following code\n",
    "import pandas as pd # used for data-wrangling\n",
    "from sklearn.decomposition import PCA # pca dimension reduction\n",
    "from sklearn.manifold import TSNE # tsne dimension reduction\n",
    "import seaborn as sns # make plots\n",
    "\n",
    "# show plots in Jupyter Notebook\n",
    "%matplotlib inline "
   ]
  },
  {
   "cell_type": "code",
   "execution_count": 2,
   "metadata": {},
   "outputs": [
    {
     "data": {
      "text/html": [
       "<div>\n",
       "<style scoped>\n",
       "    .dataframe tbody tr th:only-of-type {\n",
       "        vertical-align: middle;\n",
       "    }\n",
       "\n",
       "    .dataframe tbody tr th {\n",
       "        vertical-align: top;\n",
       "    }\n",
       "\n",
       "    .dataframe thead th {\n",
       "        text-align: right;\n",
       "    }\n",
       "</style>\n",
       "<table border=\"1\" class=\"dataframe\">\n",
       "  <thead>\n",
       "    <tr style=\"text-align: right;\">\n",
       "      <th></th>\n",
       "      <th>#query</th>\n",
       "      <th>GCF_000009885.1</th>\n",
       "      <th>GCF_000016305.1</th>\n",
       "      <th>GCF_000163455.1</th>\n",
       "      <th>GCF_000219945.1</th>\n",
       "      <th>GCF_000219965.1</th>\n",
       "      <th>GCF_000220485.1</th>\n",
       "      <th>GCF_000223435.1</th>\n",
       "      <th>GCF_000240185.1</th>\n",
       "      <th>GCF_000255975.2</th>\n",
       "      <th>...</th>\n",
       "      <th>GCF_000693015.1</th>\n",
       "      <th>GCF_000693035.1</th>\n",
       "      <th>GCF_000693055.1</th>\n",
       "      <th>GCF_000693075.1</th>\n",
       "      <th>GCF_000693095.1</th>\n",
       "      <th>GCF_000693115.1</th>\n",
       "      <th>GCF_000693135.1</th>\n",
       "      <th>GCF_000693155.1</th>\n",
       "      <th>GCF_000693175.1</th>\n",
       "      <th>GCF_000693195.1</th>\n",
       "    </tr>\n",
       "  </thead>\n",
       "  <tbody>\n",
       "    <tr>\n",
       "      <th>0</th>\n",
       "      <td>GCF_000009885.1</td>\n",
       "      <td>0.000000</td>\n",
       "      <td>0.010697</td>\n",
       "      <td>0.013502</td>\n",
       "      <td>0.010914</td>\n",
       "      <td>0.011132</td>\n",
       "      <td>0.009650</td>\n",
       "      <td>0.012030</td>\n",
       "      <td>0.011264</td>\n",
       "      <td>0.012353</td>\n",
       "      <td>...</td>\n",
       "      <td>0.011802</td>\n",
       "      <td>0.011176</td>\n",
       "      <td>0.012307</td>\n",
       "      <td>0.008384</td>\n",
       "      <td>0.012777</td>\n",
       "      <td>0.010784</td>\n",
       "      <td>0.011938</td>\n",
       "      <td>0.011802</td>\n",
       "      <td>0.011847</td>\n",
       "      <td>0.011802</td>\n",
       "    </tr>\n",
       "    <tr>\n",
       "      <th>1</th>\n",
       "      <td>GCF_000016305.1</td>\n",
       "      <td>0.010697</td>\n",
       "      <td>0.000000</td>\n",
       "      <td>0.013404</td>\n",
       "      <td>0.009528</td>\n",
       "      <td>0.010272</td>\n",
       "      <td>0.010441</td>\n",
       "      <td>0.009896</td>\n",
       "      <td>0.011088</td>\n",
       "      <td>0.011309</td>\n",
       "      <td>...</td>\n",
       "      <td>0.009086</td>\n",
       "      <td>0.009406</td>\n",
       "      <td>0.010741</td>\n",
       "      <td>0.009979</td>\n",
       "      <td>0.011309</td>\n",
       "      <td>0.009814</td>\n",
       "      <td>0.010314</td>\n",
       "      <td>0.010146</td>\n",
       "      <td>0.010188</td>\n",
       "      <td>0.010146</td>\n",
       "    </tr>\n",
       "    <tr>\n",
       "      <th>2</th>\n",
       "      <td>GCF_000163455.1</td>\n",
       "      <td>0.013502</td>\n",
       "      <td>0.013404</td>\n",
       "      <td>0.000000</td>\n",
       "      <td>0.013306</td>\n",
       "      <td>0.014100</td>\n",
       "      <td>0.013699</td>\n",
       "      <td>0.014508</td>\n",
       "      <td>0.014715</td>\n",
       "      <td>0.015081</td>\n",
       "      <td>...</td>\n",
       "      <td>0.014715</td>\n",
       "      <td>0.013650</td>\n",
       "      <td>0.015294</td>\n",
       "      <td>0.012493</td>\n",
       "      <td>0.015888</td>\n",
       "      <td>0.013999</td>\n",
       "      <td>0.014923</td>\n",
       "      <td>0.014819</td>\n",
       "      <td>0.014871</td>\n",
       "      <td>0.014819</td>\n",
       "    </tr>\n",
       "    <tr>\n",
       "      <th>3</th>\n",
       "      <td>GCF_000219945.1</td>\n",
       "      <td>0.010914</td>\n",
       "      <td>0.009528</td>\n",
       "      <td>0.013306</td>\n",
       "      <td>0.000000</td>\n",
       "      <td>0.010741</td>\n",
       "      <td>0.010483</td>\n",
       "      <td>0.010441</td>\n",
       "      <td>0.010356</td>\n",
       "      <td>0.012168</td>\n",
       "      <td>...</td>\n",
       "      <td>0.010146</td>\n",
       "      <td>0.009447</td>\n",
       "      <td>0.011397</td>\n",
       "      <td>0.009406</td>\n",
       "      <td>0.011847</td>\n",
       "      <td>0.009166</td>\n",
       "      <td>0.010957</td>\n",
       "      <td>0.010870</td>\n",
       "      <td>0.010914</td>\n",
       "      <td>0.010827</td>\n",
       "    </tr>\n",
       "    <tr>\n",
       "      <th>4</th>\n",
       "      <td>GCF_000219965.1</td>\n",
       "      <td>0.011132</td>\n",
       "      <td>0.010272</td>\n",
       "      <td>0.014100</td>\n",
       "      <td>0.010741</td>\n",
       "      <td>0.000000</td>\n",
       "      <td>0.011397</td>\n",
       "      <td>0.010957</td>\n",
       "      <td>0.010741</td>\n",
       "      <td>0.011756</td>\n",
       "      <td>...</td>\n",
       "      <td>0.011264</td>\n",
       "      <td>0.011088</td>\n",
       "      <td>0.010914</td>\n",
       "      <td>0.010741</td>\n",
       "      <td>0.013404</td>\n",
       "      <td>0.011132</td>\n",
       "      <td>0.012353</td>\n",
       "      <td>0.012076</td>\n",
       "      <td>0.012122</td>\n",
       "      <td>0.012030</td>\n",
       "    </tr>\n",
       "  </tbody>\n",
       "</table>\n",
       "<p>5 rows × 251 columns</p>\n",
       "</div>"
      ],
      "text/plain": [
       "            #query  GCF_000009885.1  GCF_000016305.1  GCF_000163455.1  \\\n",
       "0  GCF_000009885.1         0.000000         0.010697         0.013502   \n",
       "1  GCF_000016305.1         0.010697         0.000000         0.013404   \n",
       "2  GCF_000163455.1         0.013502         0.013404         0.000000   \n",
       "3  GCF_000219945.1         0.010914         0.009528         0.013306   \n",
       "4  GCF_000219965.1         0.011132         0.010272         0.014100   \n",
       "\n",
       "   GCF_000219945.1  GCF_000219965.1  GCF_000220485.1  GCF_000223435.1  \\\n",
       "0         0.010914         0.011132         0.009650         0.012030   \n",
       "1         0.009528         0.010272         0.010441         0.009896   \n",
       "2         0.013306         0.014100         0.013699         0.014508   \n",
       "3         0.000000         0.010741         0.010483         0.010441   \n",
       "4         0.010741         0.000000         0.011397         0.010957   \n",
       "\n",
       "   GCF_000240185.1  GCF_000255975.2       ...         GCF_000693015.1  \\\n",
       "0         0.011264         0.012353       ...                0.011802   \n",
       "1         0.011088         0.011309       ...                0.009086   \n",
       "2         0.014715         0.015081       ...                0.014715   \n",
       "3         0.010356         0.012168       ...                0.010146   \n",
       "4         0.010741         0.011756       ...                0.011264   \n",
       "\n",
       "   GCF_000693035.1  GCF_000693055.1  GCF_000693075.1  GCF_000693095.1  \\\n",
       "0         0.011176         0.012307         0.008384         0.012777   \n",
       "1         0.009406         0.010741         0.009979         0.011309   \n",
       "2         0.013650         0.015294         0.012493         0.015888   \n",
       "3         0.009447         0.011397         0.009406         0.011847   \n",
       "4         0.011088         0.010914         0.010741         0.013404   \n",
       "\n",
       "   GCF_000693115.1  GCF_000693135.1  GCF_000693155.1  GCF_000693175.1  \\\n",
       "0         0.010784         0.011938         0.011802         0.011847   \n",
       "1         0.009814         0.010314         0.010146         0.010188   \n",
       "2         0.013999         0.014923         0.014819         0.014871   \n",
       "3         0.009166         0.010957         0.010870         0.010914   \n",
       "4         0.011132         0.012353         0.012076         0.012122   \n",
       "\n",
       "   GCF_000693195.1  \n",
       "0         0.011802  \n",
       "1         0.010146  \n",
       "2         0.014819  \n",
       "3         0.010827  \n",
       "4         0.012030  \n",
       "\n",
       "[5 rows x 251 columns]"
      ]
     },
     "execution_count": 2,
     "metadata": {},
     "output_type": "execute_result"
    }
   ],
   "source": [
    "# import Mash distance matrix and view head\n",
    "df = pd.read_csv('refseq_kpne.tsv', sep='\\t')\n",
    "df.head()"
   ]
  },
  {
   "cell_type": "code",
   "execution_count": 3,
   "metadata": {},
   "outputs": [
    {
     "data": {
      "text/plain": [
       "(250, 251)"
      ]
     },
     "execution_count": 3,
     "metadata": {},
     "output_type": "execute_result"
    }
   ],
   "source": [
    "# check size of \n",
    "df.shape"
   ]
  },
  {
   "cell_type": "code",
   "execution_count": 4,
   "metadata": {},
   "outputs": [],
   "source": [
    "# prepare data for sklearn\n",
    "# note: the \"#query\" column is being sliced out\n",
    "cols = df.columns[1:]\n",
    "data = df.values[:,1:] "
   ]
  },
  {
   "cell_type": "code",
   "execution_count": 5,
   "metadata": {},
   "outputs": [],
   "source": [
    "# use sklearn PCA to reduce dimensions\n",
    "pca = PCA(2)\n",
    "projected = pca.fit_transform(data)\n",
    "projected = pd.DataFrame(projected, columns=['axis_1','axis_2'])"
   ]
  },
  {
   "cell_type": "code",
   "execution_count": 6,
   "metadata": {},
   "outputs": [
    {
     "data": {
      "text/html": [
       "<div>\n",
       "<style scoped>\n",
       "    .dataframe tbody tr th:only-of-type {\n",
       "        vertical-align: middle;\n",
       "    }\n",
       "\n",
       "    .dataframe tbody tr th {\n",
       "        vertical-align: top;\n",
       "    }\n",
       "\n",
       "    .dataframe thead th {\n",
       "        text-align: right;\n",
       "    }\n",
       "</style>\n",
       "<table border=\"1\" class=\"dataframe\">\n",
       "  <thead>\n",
       "    <tr style=\"text-align: right;\">\n",
       "      <th></th>\n",
       "      <th>axis_1</th>\n",
       "      <th>axis_2</th>\n",
       "    </tr>\n",
       "  </thead>\n",
       "  <tbody>\n",
       "    <tr>\n",
       "      <th>0</th>\n",
       "      <td>0.065027</td>\n",
       "      <td>-0.019875</td>\n",
       "    </tr>\n",
       "    <tr>\n",
       "      <th>1</th>\n",
       "      <td>0.039832</td>\n",
       "      <td>-0.022127</td>\n",
       "    </tr>\n",
       "    <tr>\n",
       "      <th>2</th>\n",
       "      <td>0.108077</td>\n",
       "      <td>-0.001817</td>\n",
       "    </tr>\n",
       "    <tr>\n",
       "      <th>3</th>\n",
       "      <td>0.048508</td>\n",
       "      <td>-0.023007</td>\n",
       "    </tr>\n",
       "    <tr>\n",
       "      <th>4</th>\n",
       "      <td>0.062080</td>\n",
       "      <td>-0.018540</td>\n",
       "    </tr>\n",
       "  </tbody>\n",
       "</table>\n",
       "</div>"
      ],
      "text/plain": [
       "     axis_1    axis_2\n",
       "0  0.065027 -0.019875\n",
       "1  0.039832 -0.022127\n",
       "2  0.108077 -0.001817\n",
       "3  0.048508 -0.023007\n",
       "4  0.062080 -0.018540"
      ]
     },
     "execution_count": 6,
     "metadata": {},
     "output_type": "execute_result"
    }
   ],
   "source": [
    "# view pca_df head\n",
    "projected.head()"
   ]
  },
  {
   "cell_type": "code",
   "execution_count": 7,
   "metadata": {},
   "outputs": [
    {
     "data": {
      "text/plain": [
       "<matplotlib.axes._subplots.AxesSubplot at 0x1a1b1d4c18>"
      ]
     },
     "execution_count": 7,
     "metadata": {},
     "output_type": "execute_result"
    },
    {
     "data": {
      "image/png": "[encoded data removed]",
      "text/plain": [
       "<Figure size 432x288 with 1 Axes>"
      ]
     },
     "metadata": {
      "needs_background": "light"
     },
     "output_type": "display_data"
    }
   ],
   "source": [
    "# plot the projected data\n",
    "sns.scatterplot(x='axis_1', y='axis_2', data=projected,)"
   ]
  },
  {
   "cell_type": "code",
   "execution_count": 8,
   "metadata": {},
   "outputs": [
    {
     "data": {
      "text/plain": [
       "<matplotlib.axes._subplots.AxesSubplot at 0x1a1bb75a58>"
      ]
     },
     "execution_count": 8,
     "metadata": {},
     "output_type": "execute_result"
    },
    {
     "data": {
      "image/png": "[encoded data removed]",
      "text/plain": [
       "<Figure size 432x288 with 1 Axes>"
      ]
     },
     "metadata": {
      "needs_background": "light"
     },
     "output_type": "display_data"
    }
   ],
   "source": [
    "# repeat using TSNE dimension reduction\n",
    "tsne = TSNE(2)\n",
    "projected = tsne.fit_transform(data)\n",
    "projected = pd.DataFrame(projected, columns=['axis_1','axis_2'])\n",
    "\n",
    "# plot TSNE\n",
    "sns.scatterplot(x='axis_1', y='axis_2', data=projected,)"
   ]
  }
 ],
 "metadata": {
  "kernelspec": {
   "display_name": "Python 3",
   "language": "python",
   "name": "python3"
  },
  "language_info": {
   "codemirror_mode": {
    "name": "ipython",
    "version": 3
   },
   "file_extension": ".py",
   "mimetype": "text/x-python",
   "name": "python",
   "nbconvert_exporter": "python",
   "pygments_lexer": "ipython3",
   "version": "3.7.1"
  }
 },
 "nbformat": 4,
 "nbformat_minor": 2
}
